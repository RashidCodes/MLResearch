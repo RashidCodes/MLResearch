{
 "cells": [
  {
   "cell_type": "markdown",
   "metadata": {
    "toc": true
   },
   "source": [
    "<h1>Tree of Contents<span class=\"tocSkip\"></span></h1>\n",
    "<div class=\"toc\"><ul class=\"toc-item\"><li><span><a href=\"#INTRODUCTION\" data-toc-modified-id=\"INTRODUCTION-1\">INTRODUCTION</a></span></li><li><span><a href=\"#DEDUCTIONS-FROM-THE-PREVIOUS-RESEARCH.\" data-toc-modified-id=\"DEDUCTIONS-FROM-THE-PREVIOUS-RESEARCH.-2\">DEDUCTIONS FROM THE PREVIOUS RESEARCH.</a></span></li><li><span><a href=\"#ASSUMPTIONS\" data-toc-modified-id=\"ASSUMPTIONS-3\">ASSUMPTIONS</a></span></li><li><span><a href=\"#TACKLING-ASSUMPTIONS\" data-toc-modified-id=\"TACKLING-ASSUMPTIONS-4\">TACKLING ASSUMPTIONS</a></span><ul class=\"toc-item\"><li><span><a href=\"#Investigating-Relationships-between-features\" data-toc-modified-id=\"Investigating-Relationships-between-features-4.1\">Investigating Relationships between features</a></span></li><li><span><a href=\"#Checking-Collinearity\" data-toc-modified-id=\"Checking-Collinearity-4.2\">Checking Collinearity</a></span></li><li><span><a href=\"#Checking-for-Class-Imbalance\" data-toc-modified-id=\"Checking-for-Class-Imbalance-4.3\">Checking for Class Imbalance</a></span></li><li><span><a href=\"#Checking-for-Outliers\" data-toc-modified-id=\"Checking-for-Outliers-4.4\">Checking for Outliers</a></span></li></ul></li></ul></div>"
   ]
  },
  {
   "cell_type": "markdown",
   "metadata": {},
   "source": [
    "## INTRODUCTION\n",
    "In my previous research, I trained a **Logistic Regression** model with data that I hadn't extensively preprocessed. I did not follow any of the assumptions with regards to using Logistic Regression, and I was able to achieve an accuracy of about 80%. In this notebook however I will follow the assumptions, and observe how my model performs."
   ]
  },
  {
   "cell_type": "markdown",
   "metadata": {},
   "source": [
    "## DEDUCTIONS FROM THE PREVIOUS RESEARCH.\n",
    "- With k-fold cross validation, I only achieved an accuracy of 80% on the test set.\n",
    "- With the learning curve, I was able to tell that adding more training samples won't do any good.\n",
    "- With the learning curve, I was also able to tell that the model totally \"underfits\" the data.\n",
    "- With the validation curve, I was also able to tell that our model didn't do too well with variations in regularization strength.\n",
    "- We noticed that there was large imbalance in our classes with about an 80:20 ratio.\n",
    "- With the confusion matrix, I was able to tell the number of misclassified samples."
   ]
  },
  {
   "cell_type": "markdown",
   "metadata": {},
   "source": [
    "## ASSUMPTIONS"
   ]
  },
  {
   "cell_type": "markdown",
   "metadata": {},
   "source": [
    "- Logisitic regression does not **require a linear relationship** between the dependent and independent variable.\n",
    "- **Homoscedasticity** is not required unlike in linear regression.\n",
    "- The dependent variable is **not** measured on an interval.\n",
    "- Observations must be **independent** of each other, in other words, observations should not come from repeated measurements or matched data.\n",
    "- Logistic regression assumes **linearity of independent variables and log odds**.\n",
    "- The dependent variable should be **dichotomous** in nature.\n",
    "- It works well when there are **no outliers** in your data.\n",
    "- It also works well when there is **no multicollinearity** in our predictors. \n",
    "- The dataset must be **linearly seperable**.\n",
    "- Logistic regression works well with a **balance in class distribution**."
   ]
  },
  {
   "cell_type": "markdown",
   "metadata": {},
   "source": [
    "## TACKLING ASSUMPTIONS"
   ]
  },
  {
   "cell_type": "markdown",
   "metadata": {},
   "source": [
    "### Investigating Relationships between features"
   ]
  },
  {
   "cell_type": "code",
   "execution_count": null,
   "metadata": {},
   "outputs": [],
   "source": [
    "import pandas as pd\n",
    "import numpy as np\n",
    "import seaborn as sns\n",
    "\n",
    "## grabbing the data\n",
    "data = pd.read_csv('Churn_Modelling.csv')\n",
    "\n",
    "## dropping 3 features\n",
    "data = data.drop(['RowNumber', 'CustomerId', 'Surname', 'Exited'], axis=1)\n",
    "\n",
    "## encoding categorical features\n",
    "geo_dict = {val:idx for idx, val in enumerate(np.unique(data['Geography'].values))}\n",
    "gen_dict = { val : idx for idx, val in enumerate(np.unique(data['Gender'].values))}\n",
    "\n",
    "## mapping \n",
    "data['Geography'] = data['Geography'].map(geo_dict)\n",
    "data['Gender'] = data['Gender'].map(gen_dict)\n",
    "\n",
    "## this is where seaborn's pairplot() function shines\n",
    "\n",
    "##sns.pairplot(data)\n",
    "data.head()\n",
    "\n",
    "\n"
   ]
  },
  {
   "cell_type": "markdown",
   "metadata": {},
   "source": [
    "We can tell from our plot that some of the features are linearly separable where as some are not."
   ]
  },
  {
   "cell_type": "markdown",
   "metadata": {},
   "source": [
    "### Checking Collinearity"
   ]
  },
  {
   "cell_type": "code",
   "execution_count": null,
   "metadata": {},
   "outputs": [],
   "source": [
    "import matplotlib.pyplot as plt\n",
    "fig = plt.figure(figsize=(15, 15))\n",
    "cols = data.columns\n",
    "cm = np.corrcoef(data[cols].values.T)\n",
    "sns.set(font_scale=1.5)\n",
    "hm = sns.heatmap(cm, cbar=True, annot=True, square=True, fmt='.2f', annot_kws={'size' : 15}, yticklabels=cols, xticklabels=cols)\n",
    "plt.show()"
   ]
  },
  {
   "cell_type": "markdown",
   "metadata": {},
   "source": [
    "It can be seen that the strength of collinearity is indeed very weak with the highest being 0.3 (Balance and NumOfProducts)"
   ]
  },
  {
   "cell_type": "markdown",
   "metadata": {},
   "source": [
    "### Checking for Class Imbalance"
   ]
  },
  {
   "cell_type": "code",
   "execution_count": null,
   "metadata": {},
   "outputs": [],
   "source": [
    "## let's count the number of customers who have churned as well as those who haven't\n",
    "data = pd.read_csv('Churn_Modelling.csv')\n",
    "exited = np.array(data['Exited'].values)\n",
    "churned = np.sum(exited == 1).astype(int)\n",
    "not_churned = np.sum(exited == 0).astype(int)\n",
    "total = churned + not_churned\n",
    "print('The percentage of customers that churned: %.3f%%' % (churned/total * 100))\n",
    "print('The percentage of customers that did not churned: {}%'.format(not_churned/total * 100))\n",
    "print('the total number of samples: %d' % int(total))"
   ]
  },
  {
   "cell_type": "markdown",
   "metadata": {},
   "source": [
    "There is a huge imbalance in the distribution of our class."
   ]
  },
  {
   "cell_type": "markdown",
   "metadata": {},
   "source": [
    "### Checking for Outliers"
   ]
  },
  {
   "cell_type": "markdown",
   "metadata": {},
   "source": [
    "There are various ways to test for outliers in our data however in this notebook, I'll explore **1 multivariate method** and **1 univariate method** - **DBSCAN (Density Clustering)** and the **Tukey Method using a box plot** respectively."
   ]
  },
  {
   "cell_type": "code",
   "execution_count": 20,
   "metadata": {},
   "outputs": [
    {
     "data": {
      "image/png": "[encoded data removed]",
      "text/plain": [
       "<Figure size 432x288 with 1 Axes>"
      ]
     },
     "metadata": {
      "needs_background": "light"
     },
     "output_type": "display_data"
    }
   ],
   "source": [
    "import pandas as pd\n",
    "import numpy as np\n",
    "from matplotlib import pyplot as plt\n",
    "\n",
    "employee_df = pd.read_csv('Churn_Modelling.csv')\n",
    "employee_df = employee_df.drop(['RowNumber', 'CustomerId', 'Surname', 'Exited'], axis=1)\n",
    "\n",
    "## encoding categorical features\n",
    "geo_dict = {val:idx for idx, val in enumerate(np.unique(employee_df['Geography'].values))}\n",
    "gen_dict = { val : idx for idx, val in enumerate(np.unique(employee_df['Gender'].values))}\n",
    "\n",
    "employee_df['Geography'] = employee_df['Geography'].map(geo_dict)\n",
    "employee_df['Gender'] = employee_df['Gender'].map(gen_dict)\n",
    "\n",
    "green_diamond = dict(markerfacecolor='g', marker='o')\n",
    "plt.boxplot(employee_df['EstimatedSalary'], flierprops=green_diamond)\n",
    "plt.title('Box Plot for selected Estimated Salary')\n",
    "plt.show()\n",
    "\n"
   ]
  },
  {
   "cell_type": "code",
   "execution_count": 19,
   "metadata": {},
   "outputs": [
    {
     "data": {
      "image/png": "[encoded data removed]",
      "text/plain": [
       "<Figure size 432x288 with 1 Axes>"
      ]
     },
     "metadata": {
      "needs_background": "light"
     },
     "output_type": "display_data"
    }
   ],
   "source": [
    "import pandas as pd\n",
    "import numpy as np\n",
    "from matplotlib import pyplot as plt\n",
    "\n",
    "employee_df = pd.read_csv('Churn_Modelling.csv')\n",
    "employee_df = employee_df.drop(['RowNumber', 'CustomerId', 'Surname', 'Exited'], axis=1)\n",
    "\n",
    "## encoding categorical features\n",
    "geo_dict = {val:idx for idx, val in enumerate(np.unique(employee_df['Geography'].values))}\n",
    "gen_dict = { val : idx for idx, val in enumerate(np.unique(employee_df['Gender'].values))}\n",
    "\n",
    "employee_df['Geography'] = employee_df['Geography'].map(geo_dict)\n",
    "employee_df['Gender'] = employee_df['Gender'].map(gen_dict)\n",
    "\n",
    "green_diamond = dict(markerfacecolor='g', marker='o')\n",
    "plt.boxplot(employee_df['Balance'], flierprops=green_diamond)\n",
    "plt.title('Box Plot for selected Balance')\n",
    "plt.show()\n",
    "\n"
   ]
  },
  {
   "cell_type": "code",
   "execution_count": 18,
   "metadata": {},
   "outputs": [
    {
     "data": {
      "image/png": "[encoded data removed]",
      "text/plain": [
       "<Figure size 432x288 with 1 Axes>"
      ]
     },
     "metadata": {
      "needs_background": "light"
     },
     "output_type": "display_data"
    }
   ],
   "source": [
    "import pandas as pd\n",
    "import numpy as np\n",
    "from matplotlib import pyplot as plt\n",
    "\n",
    "employee_df = pd.read_csv('Churn_Modelling.csv')\n",
    "employee_df = employee_df.drop(['RowNumber', 'CustomerId', 'Surname', 'Exited'], axis=1)\n",
    "\n",
    "## encoding categorical features\n",
    "geo_dict = {val:idx for idx, val in enumerate(np.unique(employee_df['Geography'].values))}\n",
    "gen_dict = { val : idx for idx, val in enumerate(np.unique(employee_df['Gender'].values))}\n",
    "\n",
    "employee_df['Geography'] = employee_df['Geography'].map(geo_dict)\n",
    "employee_df['Gender'] = employee_df['Gender'].map(gen_dict)\n",
    "\n",
    "green_diamond = dict(markerfacecolor='g', marker='o')\n",
    "plt.boxplot(employee_df['Age'], flierprops=green_diamond)\n",
    "plt.title('Box Plot for selected Age')\n",
    "plt.show()"
   ]
  },
  {
   "cell_type": "code",
   "execution_count": 21,
   "metadata": {},
   "outputs": [
    {
     "data": {
      "image/png": "[encoded data removed]",
      "text/plain": [
       "<Figure size 432x288 with 1 Axes>"
      ]
     },
     "metadata": {
      "needs_background": "light"
     },
     "output_type": "display_data"
    }
   ],
   "source": [
    "import pandas as pd\n",
    "import numpy as np\n",
    "from matplotlib import pyplot as plt\n",
    "\n",
    "employee_df = pd.read_csv('Churn_Modelling.csv')\n",
    "employee_df = employee_df.drop(['RowNumber', 'CustomerId', 'Surname', 'Exited'], axis=1)\n",
    "\n",
    "## encoding categorical features\n",
    "geo_dict = {val:idx for idx, val in enumerate(np.unique(employee_df['Geography'].values))}\n",
    "gen_dict = { val : idx for idx, val in enumerate(np.unique(employee_df['Gender'].values))}\n",
    "\n",
    "employee_df['Geography'] = employee_df['Geography'].map(geo_dict)\n",
    "employee_df['Gender'] = employee_df['Gender'].map(gen_dict)\n",
    "\n",
    "green_diamond = dict(markerfacecolor='g', marker='o')\n",
    "plt.boxplot(employee_df['CreditScore'], flierprops=green_diamond)\n",
    "plt.title('Box Plot for selected Credit Score')\n",
    "plt.show()"
   ]
  },
  {
   "cell_type": "code",
   "execution_count": 22,
   "metadata": {},
   "outputs": [
    {
     "data": {
      "image/png": "[encoded data removed]",
      "text/plain": [
       "<Figure size 432x288 with 1 Axes>"
      ]
     },
     "metadata": {
      "needs_background": "light"
     },
     "output_type": "display_data"
    }
   ],
   "source": [
    "import pandas as pd\n",
    "import numpy as np\n",
    "from matplotlib import pyplot as plt\n",
    "\n",
    "employee_df = pd.read_csv('Churn_Modelling.csv')\n",
    "employee_df = employee_df.drop(['RowNumber', 'CustomerId', 'Surname', 'Exited'], axis=1)\n",
    "\n",
    "## encoding categorical features\n",
    "geo_dict = {val:idx for idx, val in enumerate(np.unique(employee_df['Geography'].values))}\n",
    "gen_dict = { val : idx for idx, val in enumerate(np.unique(employee_df['Gender'].values))}\n",
    "\n",
    "employee_df['Geography'] = employee_df['Geography'].map(geo_dict)\n",
    "employee_df['Gender'] = employee_df['Gender'].map(gen_dict)\n",
    "\n",
    "green_diamond = dict(markerfacecolor='g', marker='o')\n",
    "plt.boxplot(employee_df['Tenure'], flierprops=green_diamond)\n",
    "plt.title('Box Plot for selected Tenure')\n",
    "plt.show()"
   ]
  },
  {
   "cell_type": "code",
   "execution_count": 16,
   "metadata": {},
   "outputs": [
    {
     "data": {
      "text/html": [
       "<div>\n",
       "<style scoped>\n",
       "    .dataframe tbody tr th:only-of-type {\n",
       "        vertical-align: middle;\n",
       "    }\n",
       "\n",
       "    .dataframe tbody tr th {\n",
       "        vertical-align: top;\n",
       "    }\n",
       "\n",
       "    .dataframe thead th {\n",
       "        text-align: right;\n",
       "    }\n",
       "</style>\n",
       "<table border=\"1\" class=\"dataframe\">\n",
       "  <thead>\n",
       "    <tr style=\"text-align: right;\">\n",
       "      <th></th>\n",
       "      <th>CreditScore</th>\n",
       "      <th>Geography</th>\n",
       "      <th>Gender</th>\n",
       "      <th>Age</th>\n",
       "      <th>Tenure</th>\n",
       "      <th>Balance</th>\n",
       "      <th>NumOfProducts</th>\n",
       "      <th>HasCrCard</th>\n",
       "      <th>IsActiveMember</th>\n",
       "      <th>EstimatedSalary</th>\n",
       "    </tr>\n",
       "  </thead>\n",
       "  <tbody>\n",
       "    <tr>\n",
       "      <th>0</th>\n",
       "      <td>619</td>\n",
       "      <td>0</td>\n",
       "      <td>0</td>\n",
       "      <td>42</td>\n",
       "      <td>2</td>\n",
       "      <td>0.00</td>\n",
       "      <td>1</td>\n",
       "      <td>1</td>\n",
       "      <td>1</td>\n",
       "      <td>101348.88</td>\n",
       "    </tr>\n",
       "    <tr>\n",
       "      <th>1</th>\n",
       "      <td>608</td>\n",
       "      <td>2</td>\n",
       "      <td>0</td>\n",
       "      <td>41</td>\n",
       "      <td>1</td>\n",
       "      <td>83807.86</td>\n",
       "      <td>1</td>\n",
       "      <td>0</td>\n",
       "      <td>1</td>\n",
       "      <td>112542.58</td>\n",
       "    </tr>\n",
       "    <tr>\n",
       "      <th>2</th>\n",
       "      <td>502</td>\n",
       "      <td>0</td>\n",
       "      <td>0</td>\n",
       "      <td>42</td>\n",
       "      <td>8</td>\n",
       "      <td>159660.80</td>\n",
       "      <td>3</td>\n",
       "      <td>1</td>\n",
       "      <td>0</td>\n",
       "      <td>113931.57</td>\n",
       "    </tr>\n",
       "    <tr>\n",
       "      <th>3</th>\n",
       "      <td>699</td>\n",
       "      <td>0</td>\n",
       "      <td>0</td>\n",
       "      <td>39</td>\n",
       "      <td>1</td>\n",
       "      <td>0.00</td>\n",
       "      <td>2</td>\n",
       "      <td>0</td>\n",
       "      <td>0</td>\n",
       "      <td>93826.63</td>\n",
       "    </tr>\n",
       "    <tr>\n",
       "      <th>4</th>\n",
       "      <td>850</td>\n",
       "      <td>2</td>\n",
       "      <td>0</td>\n",
       "      <td>43</td>\n",
       "      <td>2</td>\n",
       "      <td>125510.82</td>\n",
       "      <td>1</td>\n",
       "      <td>1</td>\n",
       "      <td>1</td>\n",
       "      <td>79084.10</td>\n",
       "    </tr>\n",
       "  </tbody>\n",
       "</table>\n",
       "</div>"
      ],
      "text/plain": [
       "   CreditScore  Geography  Gender  Age  Tenure    Balance  NumOfProducts  \\\n",
       "0          619          0       0   42       2       0.00              1   \n",
       "1          608          2       0   41       1   83807.86              1   \n",
       "2          502          0       0   42       8  159660.80              3   \n",
       "3          699          0       0   39       1       0.00              2   \n",
       "4          850          2       0   43       2  125510.82              1   \n",
       "\n",
       "   HasCrCard  IsActiveMember  EstimatedSalary  \n",
       "0          1               1        101348.88  \n",
       "1          0               1        112542.58  \n",
       "2          1               0        113931.57  \n",
       "3          0               0         93826.63  \n",
       "4          1               1         79084.10  "
      ]
     },
     "execution_count": 16,
     "metadata": {},
     "output_type": "execute_result"
    }
   ],
   "source": [
    "employee_df.head()"
   ]
  },
  {
   "cell_type": "code",
   "execution_count": 23,
   "metadata": {},
   "outputs": [
    {
     "data": {
      "image/png": "[encoded data removed]",
      "text/plain": [
       "<Figure size 432x288 with 1 Axes>"
      ]
     },
     "metadata": {
      "needs_background": "light"
     },
     "output_type": "display_data"
    }
   ],
   "source": [
    "import pandas as pd\n",
    "import numpy as np\n",
    "from matplotlib import pyplot as plt\n",
    "\n",
    "employee_df = pd.read_csv('Churn_Modelling.csv')\n",
    "employee_df = employee_df.drop(['RowNumber', 'CustomerId', 'Surname', 'Exited'], axis=1)\n",
    "\n",
    "## encoding categorical features\n",
    "geo_dict = {val:idx for idx, val in enumerate(np.unique(employee_df['Geography'].values))}\n",
    "gen_dict = { val : idx for idx, val in enumerate(np.unique(employee_df['Gender'].values))}\n",
    "\n",
    "employee_df['Geography'] = employee_df['Geography'].map(geo_dict)\n",
    "employee_df['Gender'] = employee_df['Gender'].map(gen_dict)\n",
    "\n",
    "green_diamond = dict(markerfacecolor='g', marker='o')\n",
    "plt.boxplot(employee_df['NumOfProducts'], flierprops=green_diamond)\n",
    "plt.title('Box Plot for selected Number of Products')\n",
    "plt.show()"
   ]
  },
  {
   "cell_type": "markdown",
   "metadata": {},
   "source": [
    "Looks like we have the most Outliers in the **Age** feature, with the **Credit Scores** to follow. The **Number of Products feature** has just an outlier."
   ]
  },
  {
   "cell_type": "markdown",
   "metadata": {},
   "source": [
    "#### Checking for outliers using DBSCAN."
   ]
  },
  {
   "cell_type": "markdown",
   "metadata": {},
   "source": [
    "**DBSCAN - Density Based Spatial Clustering of Applications with Noise**, assigns cluster labels based on **dense regions of points**. In DBSCAN, the notion of density is density is defined as the number of points within a specified radius, **r**."
   ]
  },
  {
   "cell_type": "code",
   "execution_count": 67,
   "metadata": {},
   "outputs": [
    {
     "data": {
      "image/png": "[encoded data removed]",
      "text/plain": [
       "<Figure size 432x288 with 1 Axes>"
      ]
     },
     "metadata": {
      "needs_background": "light"
     },
     "output_type": "display_data"
    }
   ],
   "source": [
    "import numpy as np\n",
    "from sklearn.cluster import DBSCAN\n",
    "from sklearn.preprocessing import StandardScaler\n",
    "X = np.array(employee_df[['Age', 'Balance']])\n",
    "sc = StandardScaler()\n",
    "X_std = sc.fit_transform(X)\n",
    "# plt.scatter(X_std[:900, 0], X_std[:900, 1])\n",
    "db = DBSCAN(eps=0.4, min_samples=20, metric='euclidean')\n",
    "y_db = db.fit_predict(X_std)\n",
    "plt.scatter(X_std[y_db == 0, 0][:900], X_std[y_db == 0, 1][:900], c='lightblue', edgecolor='black', marker='o', s=40, label='cluster 1')\n",
    "plt.scatter(X_std[y_db == 1, 0][:900], X_std[y_db == 1, 1][:900], c='red', edgecolor='black', marker='s', s=40, label='cluster 2')\n",
    "plt.legend()\n",
    "plt.show()"
   ]
  },
  {
   "cell_type": "code",
   "execution_count": null,
   "metadata": {},
   "outputs": [],
   "source": []
  }
 ],
 "metadata": {
  "kernelspec": {
   "display_name": "Python 3",
   "language": "python",
   "name": "python3"
  },
  "language_info": {
   "codemirror_mode": {
    "name": "ipython",
    "version": 3
   },
   "file_extension": ".py",
   "mimetype": "text/x-python",
   "name": "python",
   "nbconvert_exporter": "python",
   "pygments_lexer": "ipython3",
   "version": "3.6.6"
  },
  "toc": {
   "base_numbering": 1,
   "nav_menu": {},
   "number_sections": false,
   "sideBar": false,
   "skip_h1_title": false,
   "title_cell": "Tree of Contents",
   "title_sidebar": "Tree of Contents",
   "toc_cell": true,
   "toc_position": {},
   "toc_section_display": false,
   "toc_window_display": false
  },
  "varInspector": {
   "cols": {
    "lenName": 16,
    "lenType": 16,
    "lenVar": 40
   },
   "kernels_config": {
    "python": {
     "delete_cmd_postfix": "",
     "delete_cmd_prefix": "del ",
     "library": "var_list.py",
     "varRefreshCmd": "print(var_dic_list())"
    },
    "r": {
     "delete_cmd_postfix": ") ",
     "delete_cmd_prefix": "rm(",
     "library": "var_list.r",
     "varRefreshCmd": "cat(var_dic_list()) "
    }
   },
   "types_to_exclude": [
    "module",
    "function",
    "builtin_function_or_method",
    "instance",
    "_Feature"
   ],
   "window_display": false
  }
 },
 "nbformat": 4,
 "nbformat_minor": 2
}
