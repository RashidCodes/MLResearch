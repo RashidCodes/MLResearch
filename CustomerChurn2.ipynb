{
 "cells": [
  {
   "cell_type": "markdown",
   "metadata": {
    "toc": true
   },
   "source": [
    "<h1>Tree of Contents<span class=\"tocSkip\"></span></h1>\n",
    "<div class=\"toc\"><ul class=\"toc-item\"><li><span><a href=\"#INTRODUCTION\" data-toc-modified-id=\"INTRODUCTION-1\">INTRODUCTION</a></span></li><li><span><a href=\"#DEDUCTIONS-FROM-THE-PREVIOUS-RESEARCH.\" data-toc-modified-id=\"DEDUCTIONS-FROM-THE-PREVIOUS-RESEARCH.-2\">DEDUCTIONS FROM THE PREVIOUS RESEARCH.</a></span></li><li><span><a href=\"#ASSUMPTIONS\" data-toc-modified-id=\"ASSUMPTIONS-3\">ASSUMPTIONS</a></span></li><li><span><a href=\"#TACKLING-ASSUMPTIONS\" data-toc-modified-id=\"TACKLING-ASSUMPTIONS-4\">TACKLING ASSUMPTIONS</a></span><ul class=\"toc-item\"><li><span><a href=\"#Investigating-Relationships-between-features\" data-toc-modified-id=\"Investigating-Relationships-between-features-4.1\">Investigating Relationships between features</a></span></li><li><span><a href=\"#Checking-Collinearity\" data-toc-modified-id=\"Checking-Collinearity-4.2\">Checking Collinearity</a></span></li><li><span><a href=\"#Checking-for-Class-Imbalance\" data-toc-modified-id=\"Checking-for-Class-Imbalance-4.3\">Checking for Class Imbalance</a></span></li><li><span><a href=\"#Checking-for-Outliers\" data-toc-modified-id=\"Checking-for-Outliers-4.4\">Checking for Outliers</a></span><ul class=\"toc-item\"><li><span><a href=\"#Checking-for-outliers-using-DBSCAN.\" data-toc-modified-id=\"Checking-for-outliers-using-DBSCAN.-4.4.1\">Checking for outliers using DBSCAN.</a></span></li></ul></li></ul></li><li><span><a href=\"#Feature-Engineering\" data-toc-modified-id=\"Feature-Engineering-5\">Feature Engineering</a></span><ul class=\"toc-item\"><li><span><a href=\"#A.-Interactions-among-Features\" data-toc-modified-id=\"A.-Interactions-among-Features-5.1\">A. Interactions among Features</a></span></li><li><span><a href=\"#B.-Dimensionality-reduction-using-PCA\" data-toc-modified-id=\"B.-Dimensionality-reduction-using-PCA-5.2\">B. Dimensionality reduction using PCA</a></span></li></ul></li><li><span><a href=\"#Feature-Selection-and-Model-Building\" data-toc-modified-id=\"Feature-Selection-and-Model-Building-6\">Feature Selection and Model Building</a></span><ul class=\"toc-item\"><li><span><a href=\"#Selecting-the-best-10-features\" data-toc-modified-id=\"Selecting-the-best-10-features-6.1\">Selecting the best 10 features</a></span></li><li><span><a href=\"#Standardizing-our-10-features\" data-toc-modified-id=\"Standardizing-our-10-features-6.2\">Standardizing our 10 features</a></span></li></ul></li></ul></div>"
   ]
  },
  {
   "cell_type": "markdown",
   "metadata": {},
   "source": [
    "## INTRODUCTION\n",
    "In my previous research, I trained a **Logistic Regression** model with data that I hadn't extensively preprocessed. I did not follow any of the assumptions with regards to using Logistic Regression, and I was able to achieve an accuracy of about 80%. In this notebook however I will follow the assumptions, and observe how my model performs."
   ]
  },
  {
   "cell_type": "markdown",
   "metadata": {},
   "source": [
    "## DEDUCTIONS FROM THE PREVIOUS RESEARCH.\n",
    "- With k-fold cross validation, I only achieved an accuracy of 80% on the test set.\n",
    "- With the learning curve, I was able to tell that adding more training samples won't do any good.\n",
    "- With the learning curve, I was also able to tell that the model totally \"underfits\" the data.\n",
    "- With the validation curve, I was also able to tell that our model didn't do too well with variations in regularization strength.\n",
    "- We noticed that there was large imbalance in our classes with about an 80:20 ratio.\n",
    "- With the confusion matrix, I was able to tell the number of misclassified samples."
   ]
  },
  {
   "cell_type": "markdown",
   "metadata": {},
   "source": [
    "## ASSUMPTIONS"
   ]
  },
  {
   "cell_type": "markdown",
   "metadata": {},
   "source": [
    "- Logisitic regression does not **require a linear relationship** between the dependent and independent variable.\n",
    "- **Homoscedasticity** is not required unlike in linear regression.\n",
    "- The dependent variable is **not** measured on an interval.\n",
    "- Observations must be **independent** of each other, in other words, observations should not come from repeated measurements or matched data.\n",
    "- Logistic regression assumes **linearity of independent variables and log odds**.\n",
    "- The dependent variable should be **dichotomous** in nature.\n",
    "- It works well when there are **no outliers** in your data.\n",
    "- It also works well when there is **no multicollinearity** in our predictors. \n",
    "- The dataset must be **linearly seperable**.\n",
    "- Logistic regression works well with a **balance in class distribution**."
   ]
  },
  {
   "cell_type": "markdown",
   "metadata": {},
   "source": [
    "## TACKLING ASSUMPTIONS"
   ]
  },
  {
   "cell_type": "markdown",
   "metadata": {},
   "source": [
    "### Investigating Relationships between features"
   ]
  },
  {
   "cell_type": "code",
   "execution_count": null,
   "metadata": {},
   "outputs": [],
   "source": [
    "import pandas as pd\n",
    "import numpy as np\n",
    "import seaborn as sns\n",
    "\n",
    "## grabbing the data\n",
    "data = pd.read_csv('Churn_Modelling.csv')\n",
    "\n",
    "## dropping 3 features\n",
    "data = data.drop(['RowNumber', 'CustomerId', 'Surname', 'Exited'], axis=1)\n",
    "\n",
    "## encoding categorical features\n",
    "geo_dict = {val:idx for idx, val in enumerate(np.unique(data['Geography'].values))}\n",
    "gen_dict = { val : idx for idx, val in enumerate(np.unique(data['Gender'].values))}\n",
    "\n",
    "## mapping \n",
    "data['Geography'] = data['Geography'].map(geo_dict)\n",
    "data['Gender'] = data['Gender'].map(gen_dict)\n",
    "\n",
    "## this is where seaborn's pairplot() function shines\n",
    "\n",
    "##sns.pairplot(data)\n",
    "data.head()\n",
    "\n",
    "\n"
   ]
  },
  {
   "cell_type": "markdown",
   "metadata": {},
   "source": [
    "We can tell from our plot that some of the features are linearly separable where as some are not."
   ]
  },
  {
   "cell_type": "markdown",
   "metadata": {},
   "source": [
    "### Checking Collinearity"
   ]
  },
  {
   "cell_type": "code",
   "execution_count": null,
   "metadata": {},
   "outputs": [],
   "source": [
    "import matplotlib.pyplot as plt\n",
    "fig = plt.figure(figsize=(15, 15))\n",
    "cols = data.columns\n",
    "cm = np.corrcoef(data[cols].values.T)\n",
    "sns.set(font_scale=1.5)\n",
    "hm = sns.heatmap(cm, cbar=True, annot=True, square=True, fmt='.2f', annot_kws={'size' : 15}, yticklabels=cols, xticklabels=cols)\n",
    "plt.show()"
   ]
  },
  {
   "cell_type": "markdown",
   "metadata": {},
   "source": [
    "It can be seen that the strength of collinearity is indeed very weak with the highest being 0.3 (Balance and NumOfProducts)"
   ]
  },
  {
   "cell_type": "markdown",
   "metadata": {},
   "source": [
    "### Checking for Class Imbalance"
   ]
  },
  {
   "cell_type": "code",
   "execution_count": 151,
   "metadata": {},
   "outputs": [
    {
     "name": "stdout",
     "output_type": "stream",
     "text": [
      "The percentage of customers that churned: 20.370%\n",
      "The percentage of customers that did not churned: 79.63%\n",
      "the total number of samples: 10000\n"
     ]
    },
    {
     "data": {
      "text/plain": [
       "\"\\nor \\ndf = pd.read_csv('Churn_Modelling.csv')\\ndf['Exited'].value_counts().sort_values(ascending=False)\\n\""
      ]
     },
     "execution_count": 151,
     "metadata": {},
     "output_type": "execute_result"
    }
   ],
   "source": [
    "## let's count the number of customers who have churned as well as those who haven't\n",
    "data = pd.read_csv('Churn_Modelling.csv')\n",
    "exited = np.array(data['Exited'].values)\n",
    "churned = np.sum(exited == 1).astype(int)\n",
    "not_churned = np.sum(exited == 0).astype(int)\n",
    "total = churned + not_churned\n",
    "print('The percentage of customers that churned: %.3f%%' % (churned/total * 100))\n",
    "print('The percentage of customers that did not churned: {}%'.format(not_churned/total * 100))\n",
    "print('the total number of samples: %d' % int(total))\n",
    "\n",
    "\"\"\"\n",
    "or \n",
    "df = pd.read_csv('Churn_Modelling.csv')\n",
    "df['Exited'].value_counts().sort_values(ascending=False)\n",
    "\"\"\"\n"
   ]
  },
  {
   "cell_type": "markdown",
   "metadata": {},
   "source": [
    "There is a huge imbalance in the distribution of our class."
   ]
  },
  {
   "cell_type": "markdown",
   "metadata": {},
   "source": [
    "### Checking for Outliers"
   ]
  },
  {
   "cell_type": "markdown",
   "metadata": {},
   "source": [
    "There are various ways to test for outliers in our data however in this notebook, I'll explore **1 multivariate method** and **1 univariate method** - **DBSCAN (Density Clustering)** and the **Tukey Method using a box plot** respectively."
   ]
  },
  {
   "cell_type": "code",
   "execution_count": 37,
   "metadata": {},
   "outputs": [
    {
     "data": {
      "image/png": "[encoded data removed]",
      "text/plain": [
       "<Figure size 2160x360 with 6 Axes>"
      ]
     },
     "metadata": {
      "needs_background": "light"
     },
     "output_type": "display_data"
    }
   ],
   "source": [
    "import pandas as pd\n",
    "import numpy as np\n",
    "from matplotlib import pyplot as plt\n",
    "\n",
    "employee_df = pd.read_csv('Churn_Modelling.csv')\n",
    "employee_df = employee_df.drop(['RowNumber', 'CustomerId', 'Surname', 'Exited'], axis=1)\n",
    "\n",
    "## encoding categorical features\n",
    "geo_dict = {val:idx for idx, val in enumerate(np.unique(employee_df['Geography'].values))}\n",
    "gen_dict = { val : idx for idx, val in enumerate(np.unique(employee_df['Gender'].values))}\n",
    "\n",
    "employee_df['Geography'] = employee_df['Geography'].map(geo_dict)\n",
    "employee_df['Gender'] = employee_df['Gender'].map(gen_dict)\n",
    "\n",
    "features = ['EstimatedSalary', 'Age', 'Balance', 'CreditScore', 'Tenure', 'NumOfProducts']\n",
    "\n",
    "green_diamond = dict(markerfacecolor='g', marker='o')\n",
    "\n",
    "\n",
    "fig, axes = plt.subplots(1, len(features), figsize=(30, 5))\n",
    "for feature in features:\n",
    "        axes[features.index(feature)].boxplot(employee_df[feature], flierprops=green_diamond)\n",
    "        axes[features.index(feature)].set_title('Box Plot for %s' % feature, loc='center', pad=5 )\n",
    "        plt.tight_layout()\n",
    "plt.show()\n",
    "\n",
    "\n"
   ]
  },
  {
   "cell_type": "markdown",
   "metadata": {},
   "source": [
    "Looks like we have the most Outliers in the **Age** feature, with the **Credit Scores** to follow. The **Number of Products feature** has just an outlier."
   ]
  },
  {
   "cell_type": "markdown",
   "metadata": {},
   "source": [
    "#### Checking for outliers using DBSCAN."
   ]
  },
  {
   "cell_type": "markdown",
   "metadata": {},
   "source": [
    "**DBSCAN - Density Based Spatial Clustering of Applications with Noise**, assigns cluster labels based on **dense regions of points**. In DBSCAN, the notion of density is density is defined as the number of points within a specified radius, **r**."
   ]
  },
  {
   "cell_type": "code",
   "execution_count": 97,
   "metadata": {},
   "outputs": [
    {
     "data": {
      "image/png": "[encoded data removed]",
      "text/plain": [
       "<Figure size 432x288 with 1 Axes>"
      ]
     },
     "metadata": {
      "needs_background": "light"
     },
     "output_type": "display_data"
    },
    {
     "data": {
      "text/plain": [
       "array([-1,  0])"
      ]
     },
     "execution_count": 97,
     "metadata": {},
     "output_type": "execute_result"
    }
   ],
   "source": [
    "import numpy as np\n",
    "from sklearn.cluster import DBSCAN\n",
    "from sklearn.preprocessing import StandardScaler\n",
    "X = np.array(employee_df[['Age', 'Balance']])\n",
    "sc = StandardScaler()\n",
    "X_std = sc.fit_transform(X)\n",
    "# plt.scatter(X_std[:900, 0], X_std[:900, 1])\n",
    "db = DBSCAN(eps=0.4, min_samples=20, metric='euclidean')\n",
    "y_db = db.fit_predict(X_std)\n",
    "plt.scatter(X_std[y_db == -1, 0], X_std[y_db == -1, 1], c='lightblue', marker='o', s=40, label='cluster 1')\n",
    "plt.scatter(X_std[y_db == 0, 0], X_std[y_db == 0, 1], c='red', marker='s', s=40, label='cluster 2')\n",
    "plt.legend()\n",
    "plt.show()\n",
    "np.unique(y_db)\n",
    "\n",
    "\n",
    "\n"
   ]
  },
  {
   "cell_type": "markdown",
   "metadata": {},
   "source": [
    "This is super inaccurate and i am hoping that someone can help me with this."
   ]
  },
  {
   "cell_type": "markdown",
   "metadata": {},
   "source": [
    "## Feature Engineering"
   ]
  },
  {
   "cell_type": "markdown",
   "metadata": {},
   "source": [
    "Essentially, increasing or decreasing dimensionality. \n",
    "### A. Interactions among Features"
   ]
  },
  {
   "cell_type": "markdown",
   "metadata": {},
   "source": [
    "- A simple two-way interaction is represented by:\n",
    "     - X3 = X1 * X2 where X3 is the interaction between X1 and X2."
   ]
  },
  {
   "cell_type": "markdown",
   "metadata": {},
   "source": [
    "- Adding interaction terms as additional new features to your model is useful for your model if the impact of two or more features on the outcome is **non-additive**."
   ]
  },
  {
   "cell_type": "markdown",
   "metadata": {},
   "source": [
    "- Note that interactions amongst dummy variables belonging to the same categorical feature are always zero."
   ]
  },
  {
   "cell_type": "markdown",
   "metadata": {},
   "source": [
    "Although it is very easy to calculate two-way interactions amongst all features, it is very computationally expensive\n",
    "- 10 features = 45 two-way interaction terms\n",
    "- 50 features = 1,225 two-way interaction terms\n",
    "- 100 features = 4,950 two-way interaction terms\n",
    "- 500 features = 124,750 two-way interaction terms\n",
    "- Recommend understanding your data and domain if possible and selectively choosing   interaction terms."
   ]
  },
  {
   "cell_type": "code",
   "execution_count": 46,
   "metadata": {},
   "outputs": [],
   "source": [
    "## Use PolynomialFeatures in sklearn.preprocessing to creat two-way interactions for all features\n",
    "from itertools import combinations\n",
    "from sklearn.preprocessing import PolynomialFeatures\n",
    "\n",
    "def add_interactions(df):\n",
    "    # Get feature names\n",
    "    combos = list(combinations(list(df.columns), 2))\n",
    "    colnames = list(df.columns) + [' '.join(x) for x in combos]\n",
    "    \n",
    "    # Find interactions\n",
    "    poly = PolynomialFeatures(interaction_only=True, include_bias=False)\n",
    "    df = poly.fit_transform(df)\n",
    "    df = pd.DataFrame(df)\n",
    "    df.columns = colnames\n",
    "    \n",
    "    ## Remove interaction terms with all 0 values\n",
    "    noint_indices = [i for i, x in enumerate(list((df == 0).all())) if x]\n",
    "    df = df.drop(df.columns[noint_indices], axis=1)\n",
    "    \n",
    "    return df"
   ]
  },
  {
   "cell_type": "code",
   "execution_count": 47,
   "metadata": {},
   "outputs": [
    {
     "data": {
      "text/html": [
       "<div>\n",
       "<style scoped>\n",
       "    .dataframe tbody tr th:only-of-type {\n",
       "        vertical-align: middle;\n",
       "    }\n",
       "\n",
       "    .dataframe tbody tr th {\n",
       "        vertical-align: top;\n",
       "    }\n",
       "\n",
       "    .dataframe thead th {\n",
       "        text-align: right;\n",
       "    }\n",
       "</style>\n",
       "<table border=\"1\" class=\"dataframe\">\n",
       "  <thead>\n",
       "    <tr style=\"text-align: right;\">\n",
       "      <th></th>\n",
       "      <th>CreditScore</th>\n",
       "      <th>Geography</th>\n",
       "      <th>Gender</th>\n",
       "      <th>Age</th>\n",
       "      <th>Tenure</th>\n",
       "      <th>Balance</th>\n",
       "      <th>NumOfProducts</th>\n",
       "      <th>HasCrCard</th>\n",
       "      <th>IsActiveMember</th>\n",
       "      <th>EstimatedSalary</th>\n",
       "      <th>...</th>\n",
       "      <th>Balance NumOfProducts</th>\n",
       "      <th>Balance HasCrCard</th>\n",
       "      <th>Balance IsActiveMember</th>\n",
       "      <th>Balance EstimatedSalary</th>\n",
       "      <th>NumOfProducts HasCrCard</th>\n",
       "      <th>NumOfProducts IsActiveMember</th>\n",
       "      <th>NumOfProducts EstimatedSalary</th>\n",
       "      <th>HasCrCard IsActiveMember</th>\n",
       "      <th>HasCrCard EstimatedSalary</th>\n",
       "      <th>IsActiveMember EstimatedSalary</th>\n",
       "    </tr>\n",
       "  </thead>\n",
       "  <tbody>\n",
       "    <tr>\n",
       "      <th>0</th>\n",
       "      <td>619.0</td>\n",
       "      <td>0.0</td>\n",
       "      <td>0.0</td>\n",
       "      <td>42.0</td>\n",
       "      <td>2.0</td>\n",
       "      <td>0.00</td>\n",
       "      <td>1.0</td>\n",
       "      <td>1.0</td>\n",
       "      <td>1.0</td>\n",
       "      <td>101348.88</td>\n",
       "      <td>...</td>\n",
       "      <td>0.00</td>\n",
       "      <td>0.00</td>\n",
       "      <td>0.00</td>\n",
       "      <td>0.000000e+00</td>\n",
       "      <td>1.0</td>\n",
       "      <td>1.0</td>\n",
       "      <td>101348.88</td>\n",
       "      <td>1.0</td>\n",
       "      <td>101348.88</td>\n",
       "      <td>101348.88</td>\n",
       "    </tr>\n",
       "    <tr>\n",
       "      <th>1</th>\n",
       "      <td>608.0</td>\n",
       "      <td>2.0</td>\n",
       "      <td>0.0</td>\n",
       "      <td>41.0</td>\n",
       "      <td>1.0</td>\n",
       "      <td>83807.86</td>\n",
       "      <td>1.0</td>\n",
       "      <td>0.0</td>\n",
       "      <td>1.0</td>\n",
       "      <td>112542.58</td>\n",
       "      <td>...</td>\n",
       "      <td>83807.86</td>\n",
       "      <td>0.00</td>\n",
       "      <td>83807.86</td>\n",
       "      <td>9.431953e+09</td>\n",
       "      <td>0.0</td>\n",
       "      <td>1.0</td>\n",
       "      <td>112542.58</td>\n",
       "      <td>0.0</td>\n",
       "      <td>0.00</td>\n",
       "      <td>112542.58</td>\n",
       "    </tr>\n",
       "    <tr>\n",
       "      <th>2</th>\n",
       "      <td>502.0</td>\n",
       "      <td>0.0</td>\n",
       "      <td>0.0</td>\n",
       "      <td>42.0</td>\n",
       "      <td>8.0</td>\n",
       "      <td>159660.80</td>\n",
       "      <td>3.0</td>\n",
       "      <td>1.0</td>\n",
       "      <td>0.0</td>\n",
       "      <td>113931.57</td>\n",
       "      <td>...</td>\n",
       "      <td>478982.40</td>\n",
       "      <td>159660.80</td>\n",
       "      <td>0.00</td>\n",
       "      <td>1.819041e+10</td>\n",
       "      <td>3.0</td>\n",
       "      <td>0.0</td>\n",
       "      <td>341794.71</td>\n",
       "      <td>0.0</td>\n",
       "      <td>113931.57</td>\n",
       "      <td>0.00</td>\n",
       "    </tr>\n",
       "    <tr>\n",
       "      <th>3</th>\n",
       "      <td>699.0</td>\n",
       "      <td>0.0</td>\n",
       "      <td>0.0</td>\n",
       "      <td>39.0</td>\n",
       "      <td>1.0</td>\n",
       "      <td>0.00</td>\n",
       "      <td>2.0</td>\n",
       "      <td>0.0</td>\n",
       "      <td>0.0</td>\n",
       "      <td>93826.63</td>\n",
       "      <td>...</td>\n",
       "      <td>0.00</td>\n",
       "      <td>0.00</td>\n",
       "      <td>0.00</td>\n",
       "      <td>0.000000e+00</td>\n",
       "      <td>0.0</td>\n",
       "      <td>0.0</td>\n",
       "      <td>187653.26</td>\n",
       "      <td>0.0</td>\n",
       "      <td>0.00</td>\n",
       "      <td>0.00</td>\n",
       "    </tr>\n",
       "    <tr>\n",
       "      <th>4</th>\n",
       "      <td>850.0</td>\n",
       "      <td>2.0</td>\n",
       "      <td>0.0</td>\n",
       "      <td>43.0</td>\n",
       "      <td>2.0</td>\n",
       "      <td>125510.82</td>\n",
       "      <td>1.0</td>\n",
       "      <td>1.0</td>\n",
       "      <td>1.0</td>\n",
       "      <td>79084.10</td>\n",
       "      <td>...</td>\n",
       "      <td>125510.82</td>\n",
       "      <td>125510.82</td>\n",
       "      <td>125510.82</td>\n",
       "      <td>9.925910e+09</td>\n",
       "      <td>1.0</td>\n",
       "      <td>1.0</td>\n",
       "      <td>79084.10</td>\n",
       "      <td>1.0</td>\n",
       "      <td>79084.10</td>\n",
       "      <td>79084.10</td>\n",
       "    </tr>\n",
       "  </tbody>\n",
       "</table>\n",
       "<p>5 rows × 55 columns</p>\n",
       "</div>"
      ],
      "text/plain": [
       "   CreditScore  Geography  Gender   Age  Tenure    Balance  NumOfProducts  \\\n",
       "0        619.0        0.0     0.0  42.0     2.0       0.00            1.0   \n",
       "1        608.0        2.0     0.0  41.0     1.0   83807.86            1.0   \n",
       "2        502.0        0.0     0.0  42.0     8.0  159660.80            3.0   \n",
       "3        699.0        0.0     0.0  39.0     1.0       0.00            2.0   \n",
       "4        850.0        2.0     0.0  43.0     2.0  125510.82            1.0   \n",
       "\n",
       "   HasCrCard  IsActiveMember  EstimatedSalary               ...                \\\n",
       "0        1.0             1.0        101348.88               ...                 \n",
       "1        0.0             1.0        112542.58               ...                 \n",
       "2        1.0             0.0        113931.57               ...                 \n",
       "3        0.0             0.0         93826.63               ...                 \n",
       "4        1.0             1.0         79084.10               ...                 \n",
       "\n",
       "   Balance NumOfProducts  Balance HasCrCard  Balance IsActiveMember  \\\n",
       "0                   0.00               0.00                    0.00   \n",
       "1               83807.86               0.00                83807.86   \n",
       "2              478982.40          159660.80                    0.00   \n",
       "3                   0.00               0.00                    0.00   \n",
       "4              125510.82          125510.82               125510.82   \n",
       "\n",
       "   Balance EstimatedSalary  NumOfProducts HasCrCard  \\\n",
       "0             0.000000e+00                      1.0   \n",
       "1             9.431953e+09                      0.0   \n",
       "2             1.819041e+10                      3.0   \n",
       "3             0.000000e+00                      0.0   \n",
       "4             9.925910e+09                      1.0   \n",
       "\n",
       "   NumOfProducts IsActiveMember  NumOfProducts EstimatedSalary  \\\n",
       "0                           1.0                      101348.88   \n",
       "1                           1.0                      112542.58   \n",
       "2                           0.0                      341794.71   \n",
       "3                           0.0                      187653.26   \n",
       "4                           1.0                       79084.10   \n",
       "\n",
       "   HasCrCard IsActiveMember  HasCrCard EstimatedSalary  \\\n",
       "0                       1.0                  101348.88   \n",
       "1                       0.0                       0.00   \n",
       "2                       0.0                  113931.57   \n",
       "3                       0.0                       0.00   \n",
       "4                       1.0                   79084.10   \n",
       "\n",
       "   IsActiveMember EstimatedSalary  \n",
       "0                       101348.88  \n",
       "1                       112542.58  \n",
       "2                            0.00  \n",
       "3                            0.00  \n",
       "4                        79084.10  \n",
       "\n",
       "[5 rows x 55 columns]"
      ]
     },
     "execution_count": 47,
     "metadata": {},
     "output_type": "execute_result"
    }
   ],
   "source": [
    "employee_df = add_interactions(employee_df)\n",
    "employee_df.head()"
   ]
  },
  {
   "cell_type": "markdown",
   "metadata": {},
   "source": [
    "### B. Dimensionality reduction using PCA "
   ]
  },
  {
   "cell_type": "markdown",
   "metadata": {},
   "source": [
    "- Principal component analysis (PCA) is a technique that transforms a dataset of many features into principal components that \"summarize\" the variance that underlies the data.\n",
    "\n",
    "\n",
    "- Each principle component is calculated by finding the linear combination of features that maximizes variance, while also ensuring zero correlation with the previously calculated princpal components.\n",
    "\n",
    "\n",
    "- Use cases for modelling:\n",
    "    - One of the most common dimensionality reduction techniques.\n",
    "    - Use if there are too many features or if observation/feature ratio is poor.\n",
    "    - Also, potentially good option if there are a lot of highly correlated variables in your dataset.\n",
    "    \n",
    "    \n",
    "- Unfortunately, PCA makes models a lot harder to interpret."
   ]
  },
  {
   "cell_type": "code",
   "execution_count": 67,
   "metadata": {},
   "outputs": [
    {
     "data": {
      "text/html": [
       "<div>\n",
       "<style scoped>\n",
       "    .dataframe tbody tr th:only-of-type {\n",
       "        vertical-align: middle;\n",
       "    }\n",
       "\n",
       "    .dataframe tbody tr th {\n",
       "        vertical-align: top;\n",
       "    }\n",
       "\n",
       "    .dataframe thead th {\n",
       "        text-align: right;\n",
       "    }\n",
       "</style>\n",
       "<table border=\"1\" class=\"dataframe\">\n",
       "  <thead>\n",
       "    <tr style=\"text-align: right;\">\n",
       "      <th></th>\n",
       "      <th>0</th>\n",
       "      <th>1</th>\n",
       "      <th>2</th>\n",
       "      <th>3</th>\n",
       "      <th>4</th>\n",
       "      <th>5</th>\n",
       "      <th>6</th>\n",
       "      <th>7</th>\n",
       "      <th>8</th>\n",
       "      <th>9</th>\n",
       "      <th>...</th>\n",
       "      <th>40</th>\n",
       "      <th>41</th>\n",
       "      <th>42</th>\n",
       "      <th>43</th>\n",
       "      <th>44</th>\n",
       "      <th>45</th>\n",
       "      <th>46</th>\n",
       "      <th>47</th>\n",
       "      <th>48</th>\n",
       "      <th>49</th>\n",
       "    </tr>\n",
       "  </thead>\n",
       "  <tbody>\n",
       "    <tr>\n",
       "      <th>0</th>\n",
       "      <td>-7.701524e+09</td>\n",
       "      <td>2.593780e+07</td>\n",
       "      <td>8.610012e+06</td>\n",
       "      <td>2.616159e+05</td>\n",
       "      <td>377461.435002</td>\n",
       "      <td>251607.605002</td>\n",
       "      <td>183911.552394</td>\n",
       "      <td>-59273.775079</td>\n",
       "      <td>-43830.437724</td>\n",
       "      <td>1789.189953</td>\n",
       "      <td>...</td>\n",
       "      <td>-0.009342</td>\n",
       "      <td>-0.443923</td>\n",
       "      <td>0.336299</td>\n",
       "      <td>-0.214577</td>\n",
       "      <td>-0.157266</td>\n",
       "      <td>0.284556</td>\n",
       "      <td>0.309840</td>\n",
       "      <td>-0.159411</td>\n",
       "      <td>0.004903</td>\n",
       "      <td>0.318782</td>\n",
       "    </tr>\n",
       "    <tr>\n",
       "      <th>1</th>\n",
       "      <td>1.730539e+09</td>\n",
       "      <td>2.405457e+06</td>\n",
       "      <td>4.459615e+06</td>\n",
       "      <td>5.240886e+05</td>\n",
       "      <td>38634.677742</td>\n",
       "      <td>542667.065791</td>\n",
       "      <td>17046.253359</td>\n",
       "      <td>174277.040365</td>\n",
       "      <td>-74130.435225</td>\n",
       "      <td>15439.424267</td>\n",
       "      <td>...</td>\n",
       "      <td>-0.165476</td>\n",
       "      <td>0.872975</td>\n",
       "      <td>0.664251</td>\n",
       "      <td>-0.418986</td>\n",
       "      <td>-0.150242</td>\n",
       "      <td>0.418004</td>\n",
       "      <td>-0.149985</td>\n",
       "      <td>-0.279198</td>\n",
       "      <td>0.122307</td>\n",
       "      <td>-0.360309</td>\n",
       "    </tr>\n",
       "    <tr>\n",
       "      <th>2</th>\n",
       "      <td>1.048899e+10</td>\n",
       "      <td>-2.196204e+07</td>\n",
       "      <td>2.497359e+07</td>\n",
       "      <td>1.579778e+06</td>\n",
       "      <td>-664444.253945</td>\n",
       "      <td>-671339.758346</td>\n",
       "      <td>209076.781665</td>\n",
       "      <td>-112768.553369</td>\n",
       "      <td>339605.343392</td>\n",
       "      <td>151430.512883</td>\n",
       "      <td>...</td>\n",
       "      <td>0.632130</td>\n",
       "      <td>0.082229</td>\n",
       "      <td>0.123925</td>\n",
       "      <td>0.158946</td>\n",
       "      <td>-1.176197</td>\n",
       "      <td>0.192563</td>\n",
       "      <td>-0.744011</td>\n",
       "      <td>0.293051</td>\n",
       "      <td>-0.217734</td>\n",
       "      <td>-0.065856</td>\n",
       "    </tr>\n",
       "    <tr>\n",
       "      <th>3</th>\n",
       "      <td>-7.701517e+09</td>\n",
       "      <td>2.819815e+07</td>\n",
       "      <td>6.926840e+06</td>\n",
       "      <td>-2.956038e+05</td>\n",
       "      <td>-98562.614358</td>\n",
       "      <td>334525.432958</td>\n",
       "      <td>251635.404895</td>\n",
       "      <td>-53939.686317</td>\n",
       "      <td>8685.329140</td>\n",
       "      <td>62078.260585</td>\n",
       "      <td>...</td>\n",
       "      <td>0.548630</td>\n",
       "      <td>0.085932</td>\n",
       "      <td>-0.444454</td>\n",
       "      <td>-0.093489</td>\n",
       "      <td>-0.158409</td>\n",
       "      <td>-0.034420</td>\n",
       "      <td>0.138856</td>\n",
       "      <td>0.347685</td>\n",
       "      <td>0.462879</td>\n",
       "      <td>0.107674</td>\n",
       "    </tr>\n",
       "    <tr>\n",
       "      <th>4</th>\n",
       "      <td>2.224688e+09</td>\n",
       "      <td>-3.164015e+07</td>\n",
       "      <td>-3.752871e+07</td>\n",
       "      <td>-3.063089e+05</td>\n",
       "      <td>322979.321144</td>\n",
       "      <td>522139.312047</td>\n",
       "      <td>-204688.263062</td>\n",
       "      <td>147109.260774</td>\n",
       "      <td>-89808.147630</td>\n",
       "      <td>25098.086338</td>\n",
       "      <td>...</td>\n",
       "      <td>-0.276771</td>\n",
       "      <td>0.707673</td>\n",
       "      <td>-0.340121</td>\n",
       "      <td>0.456271</td>\n",
       "      <td>0.163104</td>\n",
       "      <td>0.522124</td>\n",
       "      <td>0.194540</td>\n",
       "      <td>-0.269746</td>\n",
       "      <td>-0.052991</td>\n",
       "      <td>0.209901</td>\n",
       "    </tr>\n",
       "  </tbody>\n",
       "</table>\n",
       "<p>5 rows × 50 columns</p>\n",
       "</div>"
      ],
      "text/plain": [
       "             0             1             2             3              4   \\\n",
       "0 -7.701524e+09  2.593780e+07  8.610012e+06  2.616159e+05  377461.435002   \n",
       "1  1.730539e+09  2.405457e+06  4.459615e+06  5.240886e+05   38634.677742   \n",
       "2  1.048899e+10 -2.196204e+07  2.497359e+07  1.579778e+06 -664444.253945   \n",
       "3 -7.701517e+09  2.819815e+07  6.926840e+06 -2.956038e+05  -98562.614358   \n",
       "4  2.224688e+09 -3.164015e+07 -3.752871e+07 -3.063089e+05  322979.321144   \n",
       "\n",
       "              5              6              7              8              9   \\\n",
       "0  251607.605002  183911.552394  -59273.775079  -43830.437724    1789.189953   \n",
       "1  542667.065791   17046.253359  174277.040365  -74130.435225   15439.424267   \n",
       "2 -671339.758346  209076.781665 -112768.553369  339605.343392  151430.512883   \n",
       "3  334525.432958  251635.404895  -53939.686317    8685.329140   62078.260585   \n",
       "4  522139.312047 -204688.263062  147109.260774  -89808.147630   25098.086338   \n",
       "\n",
       "     ...           40        41        42        43        44        45  \\\n",
       "0    ...    -0.009342 -0.443923  0.336299 -0.214577 -0.157266  0.284556   \n",
       "1    ...    -0.165476  0.872975  0.664251 -0.418986 -0.150242  0.418004   \n",
       "2    ...     0.632130  0.082229  0.123925  0.158946 -1.176197  0.192563   \n",
       "3    ...     0.548630  0.085932 -0.444454 -0.093489 -0.158409 -0.034420   \n",
       "4    ...    -0.276771  0.707673 -0.340121  0.456271  0.163104  0.522124   \n",
       "\n",
       "         46        47        48        49  \n",
       "0  0.309840 -0.159411  0.004903  0.318782  \n",
       "1 -0.149985 -0.279198  0.122307 -0.360309  \n",
       "2 -0.744011  0.293051 -0.217734 -0.065856  \n",
       "3  0.138856  0.347685  0.462879  0.107674  \n",
       "4  0.194540 -0.269746 -0.052991  0.209901  \n",
       "\n",
       "[5 rows x 50 columns]"
      ]
     },
     "execution_count": 67,
     "metadata": {},
     "output_type": "execute_result"
    }
   ],
   "source": [
    "from sklearn.decomposition import PCA\n",
    "pca = PCA(n_components=50)\n",
    "employee_pca = pd.DataFrame(pca.fit_transform(employee_df))\n",
    "employee_pca.head()\n",
    "\n"
   ]
  },
  {
   "cell_type": "code",
   "execution_count": 110,
   "metadata": {},
   "outputs": [
    {
     "data": {
      "text/plain": [
       "(10000, 50)"
      ]
     },
     "execution_count": 110,
     "metadata": {},
     "output_type": "execute_result"
    }
   ],
   "source": [
    "data_df = pd.read_csv('Churn_Modelling.csv')\n",
    "exited = data_df['Exited']\n",
    "employee_pca.shape"
   ]
  },
  {
   "cell_type": "markdown",
   "metadata": {},
   "source": [
    " ## Feature Selection and Model Building"
   ]
  },
  {
   "cell_type": "markdown",
   "metadata": {},
   "source": [
    "Here, we'll build our model using the data we've processed. Keeping our fingers crossed ..."
   ]
  },
  {
   "cell_type": "code",
   "execution_count": 113,
   "metadata": {},
   "outputs": [],
   "source": [
    "from sklearn.model_selection import train_test_split\n",
    "X_train, X_test, y_train, y_test = train_test_split(employee_df, exited, random_state=1, test_size=0.3)\n",
    "\n"
   ]
  },
  {
   "cell_type": "markdown",
   "metadata": {},
   "source": [
    "### Selecting the best 10 features"
   ]
  },
  {
   "cell_type": "code",
   "execution_count": 114,
   "metadata": {},
   "outputs": [],
   "source": [
    "import sklearn.feature_selection\n",
    "\n",
    "select = sklearn.feature_selection.SelectKBest(k=20)\n",
    "selected_features = select.fit(X_train, y_train)\n",
    "indices_selected = selected_features.get_support(indices=True)\n",
    "colnames_selected = [employee_df.columns[i] for i in indices_selected]\n",
    "\n",
    "X_train_selected = X_train[colnames_selected]\n",
    "X_test_selected = X_test[colnames_selected]"
   ]
  },
  {
   "cell_type": "markdown",
   "metadata": {},
   "source": [
    "### Standardizing our 10 features"
   ]
  },
  {
   "cell_type": "code",
   "execution_count": 124,
   "metadata": {},
   "outputs": [
    {
     "data": {
      "text/plain": [
       "numpy.ndarray"
      ]
     },
     "execution_count": 124,
     "metadata": {},
     "output_type": "execute_result"
    }
   ],
   "source": [
    "from sklearn.preprocessing import StandardScaler\n",
    "sc = StandardScaler()\n",
    "X_train_std = sc.fit_transform(X_train_selected)\n",
    "X_test_std = sc.transform(X_test_selected)\n",
    "type(X_train_std)"
   ]
  },
  {
   "cell_type": "code",
   "execution_count": 120,
   "metadata": {},
   "outputs": [
    {
     "data": {
      "text/plain": [
       "['Gender',\n",
       " 'Age',\n",
       " 'Balance',\n",
       " 'IsActiveMember',\n",
       " 'CreditScore Gender',\n",
       " 'CreditScore Age',\n",
       " 'CreditScore Balance',\n",
       " 'CreditScore IsActiveMember',\n",
       " 'Geography Balance',\n",
       " 'Gender NumOfProducts',\n",
       " 'Gender IsActiveMember',\n",
       " 'Age Tenure',\n",
       " 'Age Balance',\n",
       " 'Age NumOfProducts',\n",
       " 'Age EstimatedSalary',\n",
       " 'Tenure IsActiveMember',\n",
       " 'Balance NumOfProducts',\n",
       " 'NumOfProducts IsActiveMember',\n",
       " 'HasCrCard IsActiveMember',\n",
       " 'IsActiveMember EstimatedSalary']"
      ]
     },
     "execution_count": 120,
     "metadata": {},
     "output_type": "execute_result"
    }
   ],
   "source": [
    "colnames_selected"
   ]
  },
  {
   "cell_type": "markdown",
   "metadata": {},
   "source": [
    "Using a **class_weight** of balanced assigns a larger penalty to wrong predictions on the minority class. This is one way of dealing with ***CLASS IMBALANCE***."
   ]
  },
  {
   "cell_type": "code",
   "execution_count": 148,
   "metadata": {},
   "outputs": [],
   "source": [
    "from sklearn.linear_model import LogisticRegression\n",
    "from sklearn.model_selection import StratifiedKFold\n",
    "from sklearn.metrics import roc_auc_score\n",
    "\n",
    "def find_model_perf(X_train, y_train, X_test, y_test):\n",
    "    model = LogisticRegression(random_state=1, solver='lbfgs', class_weight='balanced')\n",
    "    kfold = StratifiedKFold(n_splits=10, random_state=1).split(X_train, y_train)\n",
    "    model.fit(X_train, y_train)\n",
    "    y_hat = [x[1] for x in model.predict_proba(X_test)]\n",
    "    auc = roc_auc_score(y_test, y_hat)\n",
    "    \n",
    "    return auc"
   ]
  },
  {
   "cell_type": "code",
   "execution_count": 149,
   "metadata": {},
   "outputs": [
    {
     "data": {
      "text/plain": [
       "0.7662714039053117"
      ]
     },
     "execution_count": 149,
     "metadata": {},
     "output_type": "execute_result"
    }
   ],
   "source": [
    "auc_ = find_model_perf(X_train_std, y_train, X_test_std, y_test)\n",
    "auc_"
   ]
  },
  {
   "cell_type": "markdown",
   "metadata": {},
   "source": [
    "Here, we used **AUC** as the metric of model performance. With the unprocessed data, I was able to get a mean auc score of 0.75. So clearly, this model is perfomring better already. However, there's still a few things I have left to do:\n",
    "- Dealing with class imbalance.\n",
    "- Dealing with the outliers."
   ]
  },
  {
   "cell_type": "markdown",
   "metadata": {},
   "source": [
    "Another way to deal with **class imbalance** is:\n",
    "- **upsample** the minority class\n",
    "- **downsample** the majority class\n",
    "- **generate synthetic training samples**."
   ]
  },
  {
   "cell_type": "markdown",
   "metadata": {},
   "source": [
    "Let's try upsampling our minority class (class 1) with the code below."
   ]
  },
  {
   "cell_type": "code",
   "execution_count": 179,
   "metadata": {},
   "outputs": [
    {
     "name": "stdout",
     "output_type": "stream",
     "text": [
      "Number of class 1 samples before : 2037\n",
      "Number of class 1 samples after : 7963\n"
     ]
    }
   ],
   "source": [
    "from sklearn.utils import resample\n",
    "\n",
    "## grab the entire data\n",
    "data = pd.read_csv('Churn_Modelling.csv')\n",
    "\n",
    "## drop a few columns\n",
    "data_ = data.drop(['RowNumber', 'CustomerId', 'Surname', 'Exited'], axis=1)\n",
    "\n",
    "## grab the target variable\n",
    "exited = data['Exited']\n",
    "\n",
    "## grab the unique values\n",
    "values = data['Exited'].value_counts()\n",
    "print ('Number of class 1 samples before : {}'.format(values[1]))\n",
    "\n",
    "## let's grab our training data\n",
    "data_upsampled, exited_upsampled = resample(data_[exited == 1], exited[exited == 1], replace=True, n_samples=data_[exited == 0].shape[0], random_state=123)\n",
    "\n",
    "## Now let's find out the number of class 1 samples\n",
    "print('Number of class 1 samples after : {}'.format(data_upsampled.shape[0]))\n",
    "\n",
    "## let's now stack the original class 0 samples with the upsampled class 1 subset.\n",
    "data_bal = np.vstack((data_[exited == 0], data_upsampled))\n",
    "exited_bal = np.hstack((exited[exited == 0], exited_upsampled))\n",
    "\n",
    "##  majority vote prediction should achieve 50 percent\n",
    "# y_pred = np.zeros(exited_bal.shape[0])\n",
    "# np.mean(y_pred == exited_bal)\n",
    "\n",
    "\n"
   ]
  },
  {
   "cell_type": "markdown",
   "metadata": {},
   "source": [
    "The type of our dataframe has now changed after using numpy, I have to make it a dataframe again."
   ]
  },
  {
   "cell_type": "code",
   "execution_count": 192,
   "metadata": {},
   "outputs": [],
   "source": [
    "data_bal_ = pd.DataFrame(data_bal)\n",
    "exited_bal_ = pd.DataFrame(exited_bal)\n",
    "exited_bal_.columns = ['Exited']\n",
    "data_bal_.columns = data_.columns\n",
    "## encoding categorical features\n",
    "geo_dict = {val:idx for idx, val in enumerate(np.unique(data_bal_['Geography'].values))}\n",
    "gen_dict = { val : idx for idx, val in enumerate(np.unique(data_bal_['Gender'].values))}\n",
    "\n",
    "data_bal_['Geography'] = data_bal_['Geography'].map(geo_dict)\n",
    "data_bal_['Gender'] = data_bal_['Gender'].map(gen_dict)"
   ]
  },
  {
   "cell_type": "markdown",
   "metadata": {},
   "source": [
    "I've now been able to upsample the minority class, i'm gonna train the model with the new data."
   ]
  },
  {
   "cell_type": "code",
   "execution_count": 194,
   "metadata": {},
   "outputs": [
    {
     "data": {
      "text/html": [
       "<div>\n",
       "<style scoped>\n",
       "    .dataframe tbody tr th:only-of-type {\n",
       "        vertical-align: middle;\n",
       "    }\n",
       "\n",
       "    .dataframe tbody tr th {\n",
       "        vertical-align: top;\n",
       "    }\n",
       "\n",
       "    .dataframe thead th {\n",
       "        text-align: right;\n",
       "    }\n",
       "</style>\n",
       "<table border=\"1\" class=\"dataframe\">\n",
       "  <thead>\n",
       "    <tr style=\"text-align: right;\">\n",
       "      <th></th>\n",
       "      <th>CreditScore</th>\n",
       "      <th>Geography</th>\n",
       "      <th>Gender</th>\n",
       "      <th>Age</th>\n",
       "      <th>Tenure</th>\n",
       "      <th>Balance</th>\n",
       "      <th>NumOfProducts</th>\n",
       "      <th>HasCrCard</th>\n",
       "      <th>IsActiveMember</th>\n",
       "      <th>EstimatedSalary</th>\n",
       "      <th>...</th>\n",
       "      <th>Balance NumOfProducts</th>\n",
       "      <th>Balance HasCrCard</th>\n",
       "      <th>Balance IsActiveMember</th>\n",
       "      <th>Balance EstimatedSalary</th>\n",
       "      <th>NumOfProducts HasCrCard</th>\n",
       "      <th>NumOfProducts IsActiveMember</th>\n",
       "      <th>NumOfProducts EstimatedSalary</th>\n",
       "      <th>HasCrCard IsActiveMember</th>\n",
       "      <th>HasCrCard EstimatedSalary</th>\n",
       "      <th>IsActiveMember EstimatedSalary</th>\n",
       "    </tr>\n",
       "  </thead>\n",
       "  <tbody>\n",
       "    <tr>\n",
       "      <th>0</th>\n",
       "      <td>608.0</td>\n",
       "      <td>2.0</td>\n",
       "      <td>0.0</td>\n",
       "      <td>41.0</td>\n",
       "      <td>1.0</td>\n",
       "      <td>83807.86</td>\n",
       "      <td>1.0</td>\n",
       "      <td>0.0</td>\n",
       "      <td>1.0</td>\n",
       "      <td>112542.58</td>\n",
       "      <td>...</td>\n",
       "      <td>83807.86</td>\n",
       "      <td>0.00</td>\n",
       "      <td>83807.86</td>\n",
       "      <td>9.431953e+09</td>\n",
       "      <td>0.0</td>\n",
       "      <td>1.0</td>\n",
       "      <td>112542.58</td>\n",
       "      <td>0.0</td>\n",
       "      <td>0.0</td>\n",
       "      <td>112542.58</td>\n",
       "    </tr>\n",
       "    <tr>\n",
       "      <th>1</th>\n",
       "      <td>699.0</td>\n",
       "      <td>0.0</td>\n",
       "      <td>0.0</td>\n",
       "      <td>39.0</td>\n",
       "      <td>1.0</td>\n",
       "      <td>0.00</td>\n",
       "      <td>2.0</td>\n",
       "      <td>0.0</td>\n",
       "      <td>0.0</td>\n",
       "      <td>93826.63</td>\n",
       "      <td>...</td>\n",
       "      <td>0.00</td>\n",
       "      <td>0.00</td>\n",
       "      <td>0.00</td>\n",
       "      <td>0.000000e+00</td>\n",
       "      <td>0.0</td>\n",
       "      <td>0.0</td>\n",
       "      <td>187653.26</td>\n",
       "      <td>0.0</td>\n",
       "      <td>0.0</td>\n",
       "      <td>0.00</td>\n",
       "    </tr>\n",
       "    <tr>\n",
       "      <th>2</th>\n",
       "      <td>850.0</td>\n",
       "      <td>2.0</td>\n",
       "      <td>0.0</td>\n",
       "      <td>43.0</td>\n",
       "      <td>2.0</td>\n",
       "      <td>125510.82</td>\n",
       "      <td>1.0</td>\n",
       "      <td>1.0</td>\n",
       "      <td>1.0</td>\n",
       "      <td>79084.10</td>\n",
       "      <td>...</td>\n",
       "      <td>125510.82</td>\n",
       "      <td>125510.82</td>\n",
       "      <td>125510.82</td>\n",
       "      <td>9.925910e+09</td>\n",
       "      <td>1.0</td>\n",
       "      <td>1.0</td>\n",
       "      <td>79084.10</td>\n",
       "      <td>1.0</td>\n",
       "      <td>79084.1</td>\n",
       "      <td>79084.10</td>\n",
       "    </tr>\n",
       "    <tr>\n",
       "      <th>3</th>\n",
       "      <td>822.0</td>\n",
       "      <td>0.0</td>\n",
       "      <td>1.0</td>\n",
       "      <td>50.0</td>\n",
       "      <td>7.0</td>\n",
       "      <td>0.00</td>\n",
       "      <td>2.0</td>\n",
       "      <td>1.0</td>\n",
       "      <td>1.0</td>\n",
       "      <td>10062.80</td>\n",
       "      <td>...</td>\n",
       "      <td>0.00</td>\n",
       "      <td>0.00</td>\n",
       "      <td>0.00</td>\n",
       "      <td>0.000000e+00</td>\n",
       "      <td>2.0</td>\n",
       "      <td>2.0</td>\n",
       "      <td>20125.60</td>\n",
       "      <td>1.0</td>\n",
       "      <td>10062.8</td>\n",
       "      <td>10062.80</td>\n",
       "    </tr>\n",
       "    <tr>\n",
       "      <th>4</th>\n",
       "      <td>501.0</td>\n",
       "      <td>0.0</td>\n",
       "      <td>1.0</td>\n",
       "      <td>44.0</td>\n",
       "      <td>4.0</td>\n",
       "      <td>142051.07</td>\n",
       "      <td>2.0</td>\n",
       "      <td>0.0</td>\n",
       "      <td>1.0</td>\n",
       "      <td>74940.50</td>\n",
       "      <td>...</td>\n",
       "      <td>284102.14</td>\n",
       "      <td>0.00</td>\n",
       "      <td>142051.07</td>\n",
       "      <td>1.064538e+10</td>\n",
       "      <td>0.0</td>\n",
       "      <td>2.0</td>\n",
       "      <td>149881.00</td>\n",
       "      <td>0.0</td>\n",
       "      <td>0.0</td>\n",
       "      <td>74940.50</td>\n",
       "    </tr>\n",
       "  </tbody>\n",
       "</table>\n",
       "<p>5 rows × 55 columns</p>\n",
       "</div>"
      ],
      "text/plain": [
       "   CreditScore  Geography  Gender   Age  Tenure    Balance  NumOfProducts  \\\n",
       "0        608.0        2.0     0.0  41.0     1.0   83807.86            1.0   \n",
       "1        699.0        0.0     0.0  39.0     1.0       0.00            2.0   \n",
       "2        850.0        2.0     0.0  43.0     2.0  125510.82            1.0   \n",
       "3        822.0        0.0     1.0  50.0     7.0       0.00            2.0   \n",
       "4        501.0        0.0     1.0  44.0     4.0  142051.07            2.0   \n",
       "\n",
       "   HasCrCard  IsActiveMember  EstimatedSalary               ...                \\\n",
       "0        0.0             1.0        112542.58               ...                 \n",
       "1        0.0             0.0         93826.63               ...                 \n",
       "2        1.0             1.0         79084.10               ...                 \n",
       "3        1.0             1.0         10062.80               ...                 \n",
       "4        0.0             1.0         74940.50               ...                 \n",
       "\n",
       "   Balance NumOfProducts  Balance HasCrCard  Balance IsActiveMember  \\\n",
       "0               83807.86               0.00                83807.86   \n",
       "1                   0.00               0.00                    0.00   \n",
       "2              125510.82          125510.82               125510.82   \n",
       "3                   0.00               0.00                    0.00   \n",
       "4              284102.14               0.00               142051.07   \n",
       "\n",
       "   Balance EstimatedSalary  NumOfProducts HasCrCard  \\\n",
       "0             9.431953e+09                      0.0   \n",
       "1             0.000000e+00                      0.0   \n",
       "2             9.925910e+09                      1.0   \n",
       "3             0.000000e+00                      2.0   \n",
       "4             1.064538e+10                      0.0   \n",
       "\n",
       "   NumOfProducts IsActiveMember  NumOfProducts EstimatedSalary  \\\n",
       "0                           1.0                      112542.58   \n",
       "1                           0.0                      187653.26   \n",
       "2                           1.0                       79084.10   \n",
       "3                           2.0                       20125.60   \n",
       "4                           2.0                      149881.00   \n",
       "\n",
       "   HasCrCard IsActiveMember  HasCrCard EstimatedSalary  \\\n",
       "0                       0.0                        0.0   \n",
       "1                       0.0                        0.0   \n",
       "2                       1.0                    79084.1   \n",
       "3                       1.0                    10062.8   \n",
       "4                       0.0                        0.0   \n",
       "\n",
       "   IsActiveMember EstimatedSalary  \n",
       "0                       112542.58  \n",
       "1                            0.00  \n",
       "2                        79084.10  \n",
       "3                        10062.80  \n",
       "4                        74940.50  \n",
       "\n",
       "[5 rows x 55 columns]"
      ]
     },
     "execution_count": 194,
     "metadata": {},
     "output_type": "execute_result"
    }
   ],
   "source": [
    "## let's add interactions and select the best k features\n",
    "new_data = add_interactions(data_bal_)\n",
    "\n",
    "## let's split our data into training and test sets\n",
    "X_train_, X_test_, y_train_, y_test_ = train_test_split(new_data, exited_bal_, test_size=0.3, random_state=1)\n",
    "\n",
    "new_data.head()\n",
    "## select the best k features\n",
    "select_ = sklearn.feature_selection.SelectKBest(k=20)\n",
    "selected_features_ = select_.fit(X_train_, y_train_)\n",
    "indices_selected_ = selected_features_.get_support(indices=True)\n",
    "colnames_selected_ = [data_bal_.columns[i] for i in indices_selected_]\n",
    "\n",
    "X_train_selected_ = X_train_[colnames_selected]\n",
    "X_test_selected_ = X_test_[colnames_selected]\n"
   ]
  },
  {
   "cell_type": "code",
   "execution_count": null,
   "metadata": {},
   "outputs": [],
   "source": []
  }
 ],
 "metadata": {
  "kernelspec": {
   "display_name": "Python 3",
   "language": "python",
   "name": "python3"
  },
  "language_info": {
   "codemirror_mode": {
    "name": "ipython",
    "version": 3
   },
   "file_extension": ".py",
   "mimetype": "text/x-python",
   "name": "python",
   "nbconvert_exporter": "python",
   "pygments_lexer": "ipython3",
   "version": "3.6.6"
  },
  "toc": {
   "base_numbering": 1,
   "nav_menu": {},
   "number_sections": false,
   "sideBar": false,
   "skip_h1_title": false,
   "title_cell": "Tree of Contents",
   "title_sidebar": "Tree of Contents",
   "toc_cell": true,
   "toc_position": {},
   "toc_section_display": false,
   "toc_window_display": false
  },
  "varInspector": {
   "cols": {
    "lenName": 16,
    "lenType": 16,
    "lenVar": 40
   },
   "kernels_config": {
    "python": {
     "delete_cmd_postfix": "",
     "delete_cmd_prefix": "del ",
     "library": "var_list.py",
     "varRefreshCmd": "print(var_dic_list())"
    },
    "r": {
     "delete_cmd_postfix": ") ",
     "delete_cmd_prefix": "rm(",
     "library": "var_list.r",
     "varRefreshCmd": "cat(var_dic_list()) "
    }
   },
   "types_to_exclude": [
    "module",
    "function",
    "builtin_function_or_method",
    "instance",
    "_Feature"
   ],
   "window_display": false
  }
 },
 "nbformat": 4,
 "nbformat_minor": 2
}
